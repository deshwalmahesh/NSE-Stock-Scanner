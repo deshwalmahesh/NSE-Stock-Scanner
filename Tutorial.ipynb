{
 "cells": [
  {
   "cell_type": "markdown",
   "id": "67c39fa0",
   "metadata": {},
   "source": [
    "# <font color='red'>STOCK MARKET IS VERY RISKY UNTIL YOU DO IT PROPERLY. PLEASE DO NOT TAKE TRADES JUST BECAUSE THIS TOOL GIVES YOU THE NAME. APPLY YOUR OWN LEARNINGS, CREATE YOUR OWN STRATEGY, ASSESS RISK & TRADE THE PLAN.</font>"
   ]
  },
  {
   "cell_type": "markdown",
   "id": "c201307a",
   "metadata": {},
   "source": [
    "# Imports, Defaults and Initializations\n",
    "Clicking on the below cell is mandatory. Click on the cell below and press `Shift + Enter`. To run any cell, use the same keyboard shortcut."
   ]
  },
  {
   "cell_type": "code",
   "execution_count": 32,
   "id": "03b95f28",
   "metadata": {},
   "outputs": [
    {
     "ename": "ModuleNotFoundError",
     "evalue": "No module named 'jugaad_data'",
     "output_type": "error",
     "traceback": [
      "\u001b[0;31m---------------------------------------------------------------------------\u001b[0m",
      "\u001b[0;31mModuleNotFoundError\u001b[0m                       Traceback (most recent call last)",
      "Cell \u001b[0;32mIn[32], line 2\u001b[0m\n\u001b[1;32m      1\u001b[0m \u001b[38;5;66;03m# import backtrader\u001b[39;00m\n\u001b[0;32m----> 2\u001b[0m \u001b[38;5;28;01mfrom\u001b[39;00m \u001b[38;5;21;01mhelpers\u001b[39;00m\u001b[38;5;21;01m.\u001b[39;00m\u001b[38;5;21;01mdatahandler\u001b[39;00m \u001b[38;5;28;01mimport\u001b[39;00m \u001b[38;5;241m*\u001b[39m\n\u001b[1;32m      3\u001b[0m \u001b[38;5;28;01mfrom\u001b[39;00m \u001b[38;5;21;01mhelpers\u001b[39;00m\u001b[38;5;21;01m.\u001b[39;00m\u001b[38;5;21;01minvesting\u001b[39;00m \u001b[38;5;28;01mimport\u001b[39;00m \u001b[38;5;241m*\u001b[39m \n\u001b[1;32m      4\u001b[0m \u001b[38;5;28;01mfrom\u001b[39;00m \u001b[38;5;21;01mhelpers\u001b[39;00m\u001b[38;5;21;01m.\u001b[39;00m\u001b[38;5;21;01mjournal_handler\u001b[39;00m \u001b[38;5;28;01mimport\u001b[39;00m \u001b[38;5;241m*\u001b[39m\n",
      "File \u001b[0;32m/workspaces/NSE-Stock-Scanner/helpers/datahandler.py:1\u001b[0m\n\u001b[0;32m----> 1\u001b[0m \u001b[38;5;28;01mfrom\u001b[39;00m \u001b[38;5;21;01mjugaad_data\u001b[39;00m\u001b[38;5;21;01m.\u001b[39;00m\u001b[38;5;21;01mnse\u001b[39;00m \u001b[38;5;28;01mimport\u001b[39;00m stock_df\n\u001b[1;32m      2\u001b[0m \u001b[38;5;28;01mfrom\u001b[39;00m \u001b[38;5;21;01m.\u001b[39;00m\u001b[38;5;21;01mnse_data\u001b[39;00m \u001b[38;5;28;01mimport\u001b[39;00m NSEData\n\u001b[1;32m      4\u001b[0m \u001b[38;5;28;01mfrom\u001b[39;00m \u001b[38;5;21;01mdatetime\u001b[39;00m \u001b[38;5;28;01mimport\u001b[39;00m date, datetime, timedelta\n",
      "\u001b[0;31mModuleNotFoundError\u001b[0m: No module named 'jugaad_data'"
     ]
    }
   ],
   "source": [
    "# import backtrader\n",
    "from helpers.datahandler import *\n",
    "from helpers.investing import * \n",
    "from helpers.journal_handler import *\n",
    "from helpers.intraday import *\n",
    "from helpers.nse_data import *\n",
    "from helpers.backtest import *\n",
    "from helpers.FnO import analyse_option_chain, get_next_expiry_date\n",
    "from helpers.online_brokers import KiteZerodha # Yes! Finally we can have live Data for Free!!!\n",
    "\n",
    "\n",
    "pd.set_option('display.max_rows', 100)\n",
    "pd.set_option('display.max_columns', 25)\n",
    "\n",
    "In = Investing(check_fresh = True) # Investing or Swing trading analysis\n",
    "Intra = IntraDay() # Intraday strategies and analysis\n",
    "NSE = NSEData() # Get NSE Live data\n",
    "MS = MarketSentiment() # Get Live Market Sentiment TICK, TRIN and 52W high/ low stocks\n",
    "BT = Backtest()\n",
    "ISS  = IntradayStockSelection() # Few of the Intraday Stock Selection methods. Not methods, but just a few things like stats of Move, Range etc\n",
    "\n",
    "# In.update_new_listings() # Good to run once in a while say after every 1 month\n",
    "# In.update_fresh_nifty_indices()\n",
    "# In.update_FnO() # Future and Options List"
   ]
  },
  {
   "cell_type": "markdown",
   "id": "80a84b04",
   "metadata": {},
   "source": [
    "# [Journal](https://drive.google.com/file/d/1JipUU6Im1YVKSdufw4VHitwS010nFigL/view)\n",
    "Make a journal in Google Drive for each trade you take to analyse. **It is a not so simple process and need to connect with Google API so if you're not comfortable with it, just skip it**"
   ]
  },
  {
   "cell_type": "code",
   "execution_count": null,
   "id": "f9bfb168",
   "metadata": {},
   "outputs": [],
   "source": []
  },
  {
   "cell_type": "code",
   "execution_count": null,
   "id": "f6821093",
   "metadata": {},
   "outputs": [],
   "source": []
  },
  {
   "cell_type": "code",
   "execution_count": 33,
   "id": "f0cff2cf",
   "metadata": {},
   "outputs": [
    {
     "ename": "NameError",
     "evalue": "name 'join' is not defined",
     "output_type": "error",
     "traceback": [
      "\u001b[0;31m---------------------------------------------------------------------------\u001b[0m",
      "\u001b[0;31mNameError\u001b[0m                                 Traceback (most recent call last)",
      "Cell \u001b[0;32mIn[33], line 1\u001b[0m\n\u001b[0;32m----> 1\u001b[0m private_key \u001b[38;5;241m=\u001b[39m \u001b[43mjoin\u001b[49m(expanduser(\u001b[38;5;124m'\u001b[39m\u001b[38;5;124m~\u001b[39m\u001b[38;5;124m'\u001b[39m),\u001b[38;5;124m'\u001b[39m\u001b[38;5;124mDocuments\u001b[39m\u001b[38;5;124m'\u001b[39m,\u001b[38;5;124m'\u001b[39m\u001b[38;5;124mclient_secret.json\u001b[39m\u001b[38;5;124m'\u001b[39m) \u001b[38;5;66;03m# Personal for each user. Mine is stored in /home/Documents\u001b[39;00m\n\u001b[1;32m      2\u001b[0m JH \u001b[38;5;241m=\u001b[39m JournalHandler(private_key)\n\u001b[1;32m      4\u001b[0m journal \u001b[38;5;241m=\u001b[39m JH\u001b[38;5;241m.\u001b[39mget_journal(\u001b[38;5;124m'\u001b[39m\u001b[38;5;124mFinance Journal\u001b[39m\u001b[38;5;124m'\u001b[39m) \u001b[38;5;66;03m# My Google Sheet jornam has name \"Finance Journal\"\u001b[39;00m\n",
      "\u001b[0;31mNameError\u001b[0m: name 'join' is not defined"
     ]
    }
   ],
   "source": [
    "private_key = join(expanduser('~'),'Documents','client_secret.json') # Personal for each user. Mine is stored in /home/Documents\n",
    "JH = JournalHandler(private_key)\n",
    "\n",
    "journal = JH.get_journal('Finance Journal') # My Google Sheet jornam has name \"Finance Journal\"\n",
    "\n",
    "JH.total_pl(journal) # total Profit and Loss up until now"
   ]
  },
  {
   "cell_type": "markdown",
   "id": "6d527a3b",
   "metadata": {},
   "source": [
    "# [Swing  Trading Strategies](https://www.investopedia.com/terms/s/swingtrading.asp)\n",
    "## Tweak parameters by reading the Docstring\n",
    "## Basic Details\n",
    "Basic Details about stocks such as Momentum, Ichimoku, 1-2-3 candles pattern etc"
   ]
  },
  {
   "cell_type": "code",
   "execution_count": 34,
   "id": "46ff0ec9",
   "metadata": {},
   "outputs": [
    {
     "ename": "AttributeError",
     "evalue": "'list' object has no attribute 'get_recent_info'",
     "output_type": "error",
     "traceback": [
      "\u001b[0;31m---------------------------------------------------------------------------\u001b[0m",
      "\u001b[0;31mAttributeError\u001b[0m                            Traceback (most recent call last)",
      "Cell \u001b[0;32mIn[34], line 4\u001b[0m\n\u001b[1;32m      1\u001b[0m budget \u001b[38;5;241m=\u001b[39m \u001b[38;5;241m40000\u001b[39m\n\u001b[0;32m----> 4\u001b[0m df \u001b[38;5;241m=\u001b[39m \u001b[43mIn\u001b[49m\u001b[38;5;241;43m.\u001b[39;49m\u001b[43mget_recent_info\u001b[49m(nifty \u001b[38;5;241m=\u001b[39m \u001b[38;5;241m500\u001b[39m, custom_list\u001b[38;5;241m=\u001b[39m [\u001b[38;5;124m'\u001b[39m\u001b[38;5;124mTATAPOWER\u001b[39m\u001b[38;5;124m'\u001b[39m,\u001b[38;5;124m'\u001b[39m\u001b[38;5;124mBSOFT\u001b[39m\u001b[38;5;124m'\u001b[39m, \u001b[38;5;124m'\u001b[39m\u001b[38;5;124mCIPLA\u001b[39m\u001b[38;5;124m'\u001b[39m, \u001b[38;5;124m'\u001b[39m\u001b[38;5;124mADANIENT\u001b[39m\u001b[38;5;124m'\u001b[39m], \u001b[38;5;241m*\u001b[39m\u001b[38;5;241m*\u001b[39m{\u001b[38;5;124m'\u001b[39m\u001b[38;5;124mmvs\u001b[39m\u001b[38;5;124m'\u001b[39m:[\u001b[38;5;241m20\u001b[39m,\u001b[38;5;241m50\u001b[39m,\u001b[38;5;241m100\u001b[39m,\u001b[38;5;241m200\u001b[39m]})\n\u001b[1;32m      5\u001b[0m df\u001b[38;5;241m.\u001b[39mhead(\u001b[38;5;241m4\u001b[39m) \u001b[38;5;66;03m# show first 4 values\u001b[39;00m\n",
      "\u001b[0;31mAttributeError\u001b[0m: 'list' object has no attribute 'get_recent_info'"
     ]
    }
   ],
   "source": [
    "budget = 40000\n",
    "\n",
    "\n",
    "df = In.get_recent_info(nifty = 500, custom_list= ['TATAPOWER','BSOFT', 'CIPLA', 'ADANIENT'], **{'mvs':[20,50,100,200]})\n",
    "df.head(4) # show first 4 values"
   ]
  },
  {
   "cell_type": "markdown",
   "id": "26092da0",
   "metadata": {},
   "source": [
    "## Breakout\n",
    "Stocks that might breakout. Includes only those stocks which are above 50 days SMA, have atleast `n` number of touches within the `p%` of the recent candle. Just look at these stocks manually. Change the parameters to control the number of stocks to scan."
   ]
  },
  {
   "cell_type": "code",
   "execution_count": 35,
   "id": "b56138c8",
   "metadata": {},
   "outputs": [
    {
     "ename": "AttributeError",
     "evalue": "'list' object has no attribute 'tight_consolidation_stocks'",
     "output_type": "error",
     "traceback": [
      "\u001b[0;31m---------------------------------------------------------------------------\u001b[0m",
      "\u001b[0;31mAttributeError\u001b[0m                            Traceback (most recent call last)",
      "Cell \u001b[0;32mIn[35], line 1\u001b[0m\n\u001b[0;32m----> 1\u001b[0m \u001b[43mIn\u001b[49m\u001b[38;5;241;43m.\u001b[39;49m\u001b[43mtight_consolidation_stocks\u001b[49m(stocks \u001b[38;5;241m=\u001b[39m \u001b[38;5;124m'\u001b[39m\u001b[38;5;124mnifty_500\u001b[39m\u001b[38;5;124m'\u001b[39m, diff \u001b[38;5;241m=\u001b[39m \u001b[38;5;241m0.007\u001b[39m, min_count \u001b[38;5;241m=\u001b[39m \u001b[38;5;241m5\u001b[39m, lookback_period \u001b[38;5;241m=\u001b[39m \u001b[38;5;241m10\u001b[39m) \u001b[38;5;66;03m# There should be atleast 5 candles touching the +- 0.75% of the line within 7 days\u001b[39;00m\n",
      "\u001b[0;31mAttributeError\u001b[0m: 'list' object has no attribute 'tight_consolidation_stocks'"
     ]
    }
   ],
   "source": [
    "In.tight_consolidation_stocks(stocks = 'nifty_500', diff = 0.007, min_count = 5, lookback_period = 10) # There should be atleast 5 candles touching the +- 0.75% of the line within 7 days"
   ]
  },
  {
   "cell_type": "markdown",
   "id": "925efca9",
   "metadata": {},
   "source": [
    "## 44-SMA \n",
    "If you find a `Green` candle taking support on 44 days `Simple Moving Average` line and stock is in uptrend, you can take the trade and set Risk to Reward ratio as 1:2"
   ]
  },
  {
   "cell_type": "code",
   "execution_count": 36,
   "id": "b883fbf7",
   "metadata": {},
   "outputs": [
    {
     "ename": "AttributeError",
     "evalue": "'list' object has no attribute 'show_full_stats'",
     "output_type": "error",
     "traceback": [
      "\u001b[0;31m---------------------------------------------------------------------------\u001b[0m",
      "\u001b[0;31mAttributeError\u001b[0m                            Traceback (most recent call last)",
      "Cell \u001b[0;32mIn[36], line 3\u001b[0m\n\u001b[1;32m      1\u001b[0m budget \u001b[38;5;241m=\u001b[39m \u001b[38;5;241m40000\u001b[39m \u001b[38;5;66;03m# Total Budget\u001b[39;00m\n\u001b[1;32m      2\u001b[0m risk \u001b[38;5;241m=\u001b[39m \u001b[38;5;241m400\u001b[39m \u001b[38;5;66;03m# Risk per trade\u001b[39;00m\n\u001b[0;32m----> 3\u001b[0m df \u001b[38;5;241m=\u001b[39m \u001b[43mIn\u001b[49m\u001b[38;5;241;43m.\u001b[39;49m\u001b[43mshow_full_stats\u001b[49m(budget \u001b[38;5;241m=\u001b[39m budget,risk\u001b[38;5;241m=\u001b[39mrisk, diff \u001b[38;5;241m=\u001b[39m \u001b[38;5;241m150\u001b[39m, nifty\u001b[38;5;241m=\u001b[39m\u001b[38;5;124m'\u001b[39m\u001b[38;5;124mnifty_50\u001b[39m\u001b[38;5;124m'\u001b[39m) \u001b[38;5;66;03m# Show only stocks undder your budget and  whose recent candle's lowest is not more than 151 rupees above the moving average line\u001b[39;00m\n\u001b[1;32m      4\u001b[0m df[(df[\u001b[38;5;124m'\u001b[39m\u001b[38;5;124mRSI Value\u001b[39m\u001b[38;5;124m'\u001b[39m] \u001b[38;5;241m<\u001b[39m \u001b[38;5;241m80\u001b[39m) \u001b[38;5;241m&\u001b[39m (df[\u001b[38;5;124m'\u001b[39m\u001b[38;5;124mCCI Value\u001b[39m\u001b[38;5;124m'\u001b[39m] \u001b[38;5;241m<\u001b[39m \u001b[38;5;241m250\u001b[39m)]\n",
      "\u001b[0;31mAttributeError\u001b[0m: 'list' object has no attribute 'show_full_stats'"
     ]
    }
   ],
   "source": [
    "budget = 40000 # Total Budget\n",
    "risk = 400 # Risk per trade\n",
    "df = In.show_full_stats(budget = budget,risk=risk, diff = 150, nifty='nifty_50') # Show only stocks undder your budget and  whose recent candle's lowest is not more than 151 rupees above the moving average line\n",
    "df[(df['RSI Value'] < 80) & (df['CCI Value'] < 250)]"
   ]
  },
  {
   "cell_type": "markdown",
   "id": "8b16b5f1",
   "metadata": {},
   "source": [
    "## Golden Crossover\n",
    "When 44 days `SMA` Crosses 200 days `SMA` from below and you find a `Green` candle within 15 days taking support on `44` days line set Risk to Reward ratio as 1:5"
   ]
  },
  {
   "cell_type": "code",
   "execution_count": 37,
   "id": "6b6dc881",
   "metadata": {},
   "outputs": [
    {
     "ename": "AttributeError",
     "evalue": "'list' object has no attribute 'data'",
     "output_type": "error",
     "traceback": [
      "\u001b[0;31m---------------------------------------------------------------------------\u001b[0m",
      "\u001b[0;31mAttributeError\u001b[0m                            Traceback (most recent call last)",
      "Cell \u001b[0;32mIn[37], line 1\u001b[0m\n\u001b[0;32m----> 1\u001b[0m \u001b[38;5;28;01mfor\u001b[39;00m name \u001b[38;5;129;01min\u001b[39;00m \u001b[43mIn\u001b[49m\u001b[38;5;241;43m.\u001b[39;49m\u001b[43mdata\u001b[49m[\u001b[38;5;124m'\u001b[39m\u001b[38;5;124mnifty_200\u001b[39m\u001b[38;5;124m'\u001b[39m]:\n\u001b[1;32m      2\u001b[0m     df \u001b[38;5;241m=\u001b[39m In\u001b[38;5;241m.\u001b[39mopen_downloaded_stock(name)\n\u001b[1;32m      3\u001b[0m     \u001b[38;5;28;01mif\u001b[39;00m In\u001b[38;5;241m.\u001b[39mhas_golden_crossover(df,lookback\u001b[38;5;241m=\u001b[39m\u001b[38;5;241m21\u001b[39m):\n",
      "\u001b[0;31mAttributeError\u001b[0m: 'list' object has no attribute 'data'"
     ]
    }
   ],
   "source": [
    "for name in In.data['nifty_200']:\n",
    "    df = In.open_downloaded_stock(name)\n",
    "    if In.has_golden_crossover(df,lookback=21):\n",
    "        print(name)"
   ]
  },
  {
   "cell_type": "markdown",
   "id": "3d6c1d4d",
   "metadata": {},
   "source": [
    "## RSI Signal: Oversold / Overbought Stocks\n",
    "Buy when RSI is less than 30 sell when greater than 70"
   ]
  },
  {
   "cell_type": "code",
   "execution_count": 38,
   "id": "6bd93e91",
   "metadata": {},
   "outputs": [
    {
     "ename": "AttributeError",
     "evalue": "'list' object has no attribute 'data'",
     "output_type": "error",
     "traceback": [
      "\u001b[0;31m---------------------------------------------------------------------------\u001b[0m",
      "\u001b[0;31mAttributeError\u001b[0m                            Traceback (most recent call last)",
      "Cell \u001b[0;32mIn[38], line 1\u001b[0m\n\u001b[0;32m----> 1\u001b[0m \u001b[38;5;28;01mfor\u001b[39;00m name \u001b[38;5;129;01min\u001b[39;00m \u001b[43mIn\u001b[49m\u001b[38;5;241;43m.\u001b[39;49m\u001b[43mdata\u001b[49m[\u001b[38;5;124m'\u001b[39m\u001b[38;5;124mnifty_500\u001b[39m\u001b[38;5;124m'\u001b[39m]:\n\u001b[1;32m      2\u001b[0m     df \u001b[38;5;241m=\u001b[39m In\u001b[38;5;241m.\u001b[39mopen_downloaded_stock(name)\n\u001b[1;32m      3\u001b[0m     \u001b[38;5;28;01mif\u001b[39;00m In\u001b[38;5;241m.\u001b[39mget_RSI(df,signal_only\u001b[38;5;241m=\u001b[39m\u001b[38;5;28;01mTrue\u001b[39;00m) \u001b[38;5;241m==\u001b[39m \u001b[38;5;124m\"\u001b[39m\u001b[38;5;124mBuy\u001b[39m\u001b[38;5;124m\"\u001b[39m:\n",
      "\u001b[0;31mAttributeError\u001b[0m: 'list' object has no attribute 'data'"
     ]
    }
   ],
   "source": [
    "for name in In.data['nifty_500']:\n",
    "    df = In.open_downloaded_stock(name)\n",
    "    if In.get_RSI(df,signal_only=True) == \"Buy\":\n",
    "        print(name)"
   ]
  },
  {
   "cell_type": "markdown",
   "id": "b3b819d1",
   "metadata": {},
   "source": [
    "## MACD Signal\n",
    "It is the strategy when MACD (Blue) Line cuts the Signal (Red) line from below then it is a buy signal. When the blue line cuts from upside down, it is sell signal"
   ]
  },
  {
   "cell_type": "code",
   "execution_count": 39,
   "id": "3f7071cd",
   "metadata": {},
   "outputs": [
    {
     "ename": "AttributeError",
     "evalue": "'list' object has no attribute 'data'",
     "output_type": "error",
     "traceback": [
      "\u001b[0;31m---------------------------------------------------------------------------\u001b[0m",
      "\u001b[0;31mAttributeError\u001b[0m                            Traceback (most recent call last)",
      "Cell \u001b[0;32mIn[39], line 1\u001b[0m\n\u001b[0;32m----> 1\u001b[0m \u001b[38;5;28;01mfor\u001b[39;00m name \u001b[38;5;129;01min\u001b[39;00m \u001b[43mIn\u001b[49m\u001b[38;5;241;43m.\u001b[39;49m\u001b[43mdata\u001b[49m[\u001b[38;5;124m'\u001b[39m\u001b[38;5;124mnifty_50\u001b[39m\u001b[38;5;124m'\u001b[39m]:\n\u001b[1;32m      2\u001b[0m     df \u001b[38;5;241m=\u001b[39m In\u001b[38;5;241m.\u001b[39mopen_downloaded_stock(name)\n\u001b[1;32m      3\u001b[0m     \u001b[38;5;28;01mif\u001b[39;00m In\u001b[38;5;241m.\u001b[39mmacd_signal(df) \u001b[38;5;241m==\u001b[39m \u001b[38;5;124m'\u001b[39m\u001b[38;5;124mBuy\u001b[39m\u001b[38;5;124m'\u001b[39m:\n",
      "\u001b[0;31mAttributeError\u001b[0m: 'list' object has no attribute 'data'"
     ]
    }
   ],
   "source": [
    "for name in In.data['nifty_50']:\n",
    "    df = In.open_downloaded_stock(name)\n",
    "    if In.macd_signal(df) == 'Buy':\n",
    "        print(name)"
   ]
  },
  {
   "cell_type": "markdown",
   "id": "09b8127e",
   "metadata": {},
   "source": [
    "## CCI Signal : Rally\n",
    "**Faster than MACD Signal works closely with Stochastic RSI**\n",
    "\n",
    "When CCI values comes from below  -100 to above -100, buy signal and when it comes from above +100 to below +100, sell signal"
   ]
  },
  {
   "cell_type": "code",
   "execution_count": 40,
   "id": "47e183a1",
   "metadata": {},
   "outputs": [
    {
     "ename": "AttributeError",
     "evalue": "'list' object has no attribute 'data'",
     "output_type": "error",
     "traceback": [
      "\u001b[0;31m---------------------------------------------------------------------------\u001b[0m",
      "\u001b[0;31mAttributeError\u001b[0m                            Traceback (most recent call last)",
      "Cell \u001b[0;32mIn[40], line 1\u001b[0m\n\u001b[0;32m----> 1\u001b[0m \u001b[38;5;28;01mfor\u001b[39;00m name \u001b[38;5;129;01min\u001b[39;00m \u001b[43mIn\u001b[49m\u001b[38;5;241;43m.\u001b[39;49m\u001b[43mdata\u001b[49m[\u001b[38;5;124m'\u001b[39m\u001b[38;5;124mnifty_50\u001b[39m\u001b[38;5;124m'\u001b[39m]:\n\u001b[1;32m      2\u001b[0m     df \u001b[38;5;241m=\u001b[39m In\u001b[38;5;241m.\u001b[39mopen_downloaded_stock(name)\n\u001b[1;32m      3\u001b[0m     \u001b[38;5;28;01mif\u001b[39;00m In\u001b[38;5;241m.\u001b[39mget_CCI(df, signal_only \u001b[38;5;241m=\u001b[39m \u001b[38;5;28;01mTrue\u001b[39;00m) \u001b[38;5;241m==\u001b[39m \u001b[38;5;124m'\u001b[39m\u001b[38;5;124mBuy\u001b[39m\u001b[38;5;124m'\u001b[39m:\n",
      "\u001b[0;31mAttributeError\u001b[0m: 'list' object has no attribute 'data'"
     ]
    }
   ],
   "source": [
    "for name in In.data['nifty_50']:\n",
    "    df = In.open_downloaded_stock(name)\n",
    "    if In.get_CCI(df, signal_only = True) == 'Buy':\n",
    "        print((name, In.get_index(name)))"
   ]
  },
  {
   "cell_type": "markdown",
   "id": "6435e7a6",
   "metadata": {},
   "source": [
    "# Stochastic Oscillator\n",
    "1. Buy when the fast line cuts the slow line from below in an OVERSOLD zone ( both are below 20). Wait for both lines to go above Oversold and then buy. Recent candle closing must be above 200-MA\n",
    "\n",
    "2. Sell when both lines reaches Overbought region (above 70) and fast line crosses slow from above. Wait for both lines to go below the threshold"
   ]
  },
  {
   "cell_type": "code",
   "execution_count": 41,
   "id": "a8271cb3",
   "metadata": {},
   "outputs": [
    {
     "ename": "AttributeError",
     "evalue": "'list' object has no attribute 'data'",
     "output_type": "error",
     "traceback": [
      "\u001b[0;31m---------------------------------------------------------------------------\u001b[0m",
      "\u001b[0;31mAttributeError\u001b[0m                            Traceback (most recent call last)",
      "Cell \u001b[0;32mIn[41], line 1\u001b[0m\n\u001b[0;32m----> 1\u001b[0m \u001b[38;5;28;01mfor\u001b[39;00m name \u001b[38;5;129;01min\u001b[39;00m \u001b[43mIn\u001b[49m\u001b[38;5;241;43m.\u001b[39;49m\u001b[43mdata\u001b[49m[\u001b[38;5;124m'\u001b[39m\u001b[38;5;124mnifty_500\u001b[39m\u001b[38;5;124m'\u001b[39m]:\n\u001b[1;32m      2\u001b[0m     \u001b[38;5;28;01mif\u001b[39;00m In\u001b[38;5;241m.\u001b[39mStochastic(In\u001b[38;5;241m.\u001b[39mopen_downloaded_stock(name), signal_only \u001b[38;5;241m=\u001b[39m \u001b[38;5;28;01mTrue\u001b[39;00m) \u001b[38;5;241m==\u001b[39m \u001b[38;5;124m\"\u001b[39m\u001b[38;5;124mBuy\u001b[39m\u001b[38;5;124m\"\u001b[39m:\n\u001b[1;32m      3\u001b[0m         \u001b[38;5;28mprint\u001b[39m(name, In\u001b[38;5;241m.\u001b[39mget_index(name))\n",
      "\u001b[0;31mAttributeError\u001b[0m: 'list' object has no attribute 'data'"
     ]
    }
   ],
   "source": [
    "for name in In.data['nifty_500']:\n",
    "    if In.Stochastic(In.open_downloaded_stock(name), signal_only = True) == \"Buy\":\n",
    "        print(name, In.get_index(name))"
   ]
  },
  {
   "cell_type": "markdown",
   "id": "0c6358c1",
   "metadata": {},
   "source": [
    "# Intraday \n",
    "## See documentations for Intraday strategies"
   ]
  },
  {
   "cell_type": "markdown",
   "id": "27a27a4a",
   "metadata": {},
   "source": [
    "## Pivots Points\n",
    "As discusses in the book, [How to Make Money in Intraday Trading by Ashwani Gujral](https://www.amazon.in/How-Make-Money-Intraday-Trading/dp/9386268159) (go to `./ebooks` directory to find the annoted version of this book), this one is very important indicator. None of the online screening platforms have support for displaying [`CPR`](https://zerodha.com/varsity/chapter/the-central-pivot-range/) by default and most of these do not even show the Pivots, Support, Resistance until `9:15`. This one gives you the values of `Pivot with CPR, 3 Supports and Resistances` at the day end as long as the NSE updates the day end data so that you can plan your day in advance."
   ]
  },
  {
   "cell_type": "code",
   "execution_count": 42,
   "id": "92bc92a0",
   "metadata": {},
   "outputs": [
    {
     "ename": "AttributeError",
     "evalue": "'list' object has no attribute 'open_live_stock_data'",
     "output_type": "error",
     "traceback": [
      "\u001b[0;31m---------------------------------------------------------------------------\u001b[0m",
      "\u001b[0;31mAttributeError\u001b[0m                            Traceback (most recent call last)",
      "Cell \u001b[0;32mIn[42], line 1\u001b[0m\n\u001b[0;32m----> 1\u001b[0m data \u001b[38;5;241m=\u001b[39m \u001b[43mIn\u001b[49m\u001b[38;5;241;43m.\u001b[39;49m\u001b[43mopen_live_stock_data\u001b[49m(\u001b[38;5;124m'\u001b[39m\u001b[38;5;124mBSOFT\u001b[39m\u001b[38;5;124m'\u001b[39m)\n\u001b[1;32m      2\u001b[0m pivot_data \u001b[38;5;241m=\u001b[39m In\u001b[38;5;241m.\u001b[39mget_Pivot_Points(data, plot \u001b[38;5;241m=\u001b[39m \u001b[38;5;28;01mTrue\u001b[39;00m, num_days_back\u001b[38;5;241m=\u001b[39m\u001b[38;5;241m5\u001b[39m) \u001b[38;5;66;03m# access pivot_data to see exact values of support resistances and pivots and pivots boundries\u001b[39;00m\n",
      "\u001b[0;31mAttributeError\u001b[0m: 'list' object has no attribute 'open_live_stock_data'"
     ]
    }
   ],
   "source": [
    "data = In.open_live_stock_data('BSOFT')\n",
    "pivot_data = In.get_Pivot_Points(data, plot = True, num_days_back=5) # access pivot_data to see exact values of support resistances and pivots and pivots boundries"
   ]
  },
  {
   "cell_type": "markdown",
   "id": "d776735e",
   "metadata": {},
   "source": [
    "## Narrow Range (Stock Selection)\n",
    "If recent candle's range is lowest among `X` other days then the future candle might break it's low/high"
   ]
  },
  {
   "cell_type": "code",
   "execution_count": 43,
   "id": "43fba55d",
   "metadata": {},
   "outputs": [
    {
     "ename": "AttributeError",
     "evalue": "'list' object has no attribute 'data'",
     "output_type": "error",
     "traceback": [
      "\u001b[0;31m---------------------------------------------------------------------------\u001b[0m",
      "\u001b[0;31mAttributeError\u001b[0m                            Traceback (most recent call last)",
      "Cell \u001b[0;32mIn[43], line 1\u001b[0m\n\u001b[0;32m----> 1\u001b[0m \u001b[38;5;28;01mfor\u001b[39;00m name \u001b[38;5;129;01min\u001b[39;00m \u001b[43mIn\u001b[49m\u001b[38;5;241;43m.\u001b[39;49m\u001b[43mdata\u001b[49m[\u001b[38;5;124m'\u001b[39m\u001b[38;5;124mnifty_500\u001b[39m\u001b[38;5;124m'\u001b[39m]:\n\u001b[1;32m      2\u001b[0m     \u001b[38;5;28;01mif\u001b[39;00m Intra\u001b[38;5;241m.\u001b[39mNR_strategy(name, range_ \u001b[38;5;241m=\u001b[39m \u001b[38;5;241m20\u001b[39m):\n\u001b[1;32m      3\u001b[0m         \u001b[38;5;28mprint\u001b[39m(Intra\u001b[38;5;241m.\u001b[39mprob_by_percent_change(symbol \u001b[38;5;241m=\u001b[39m [name], index \u001b[38;5;241m=\u001b[39m \u001b[38;5;28;01mNone\u001b[39;00m, time_period \u001b[38;5;241m=\u001b[39m \u001b[38;5;241m10\u001b[39m, change_percent\u001b[38;5;241m=\u001b[39m\u001b[38;5;241m0.07\u001b[39m),In\u001b[38;5;241m.\u001b[39mget_index(name,\u001b[38;5;124m'\u001b[39m\u001b[38;5;124mall\u001b[39m\u001b[38;5;124m'\u001b[39m))\n",
      "\u001b[0;31mAttributeError\u001b[0m: 'list' object has no attribute 'data'"
     ]
    }
   ],
   "source": [
    "for name in In.data['nifty_500']:\n",
    "    if Intra.NR_strategy(name, range_ = 20):\n",
    "        print(Intra.prob_by_percent_change(symbol = [name], index = None, time_period = 10, change_percent=0.07),In.get_index(name,'all'))"
   ]
  },
  {
   "cell_type": "markdown",
   "id": "4a6e2419",
   "metadata": {},
   "source": [
    "## Whole Number Open (Stock Selection + Strategy)\n",
    "When Open == Low / High in Whole number as `xxx.00` within 15 minutes"
   ]
  },
  {
   "cell_type": "code",
   "execution_count": 44,
   "id": "246839a8",
   "metadata": {},
   "outputs": [
    {
     "ename": "NameError",
     "evalue": "name 'Intra' is not defined",
     "output_type": "error",
     "traceback": [
      "\u001b[0;31m---------------------------------------------------------------------------\u001b[0m",
      "\u001b[0;31mNameError\u001b[0m                                 Traceback (most recent call last)",
      "Cell \u001b[0;32mIn[44], line 1\u001b[0m\n\u001b[0;32m----> 1\u001b[0m \u001b[43mIntra\u001b[49m\u001b[38;5;241m.\u001b[39mwhole_number_strategy(nifty \u001b[38;5;241m=\u001b[39m \u001b[38;5;241m100\u001b[39m, min_val\u001b[38;5;241m=\u001b[39m\u001b[38;5;241m101\u001b[39m, max_val\u001b[38;5;241m=\u001b[39m\u001b[38;5;241m5000\u001b[39m, print_results \u001b[38;5;241m=\u001b[39m \u001b[38;5;28;01mTrue\u001b[39;00m)\n",
      "\u001b[0;31mNameError\u001b[0m: name 'Intra' is not defined"
     ]
    }
   ],
   "source": [
    "Intra.whole_number_strategy(nifty = 100, min_val=101, max_val=5000, print_results = True)"
   ]
  },
  {
   "cell_type": "markdown",
   "id": "6098d58f",
   "metadata": {},
   "source": [
    "## `%` Change probability (Stock Selection)\n",
    "Gives the stock names which have the highest probability of providing you `x%` in intraday atleast on both long or short side based on the previous `N` days record"
   ]
  },
  {
   "cell_type": "code",
   "execution_count": 45,
   "id": "b20b5b89",
   "metadata": {},
   "outputs": [
    {
     "ename": "NameError",
     "evalue": "name 'Intra' is not defined",
     "output_type": "error",
     "traceback": [
      "\u001b[0;31m---------------------------------------------------------------------------\u001b[0m",
      "\u001b[0;31mNameError\u001b[0m                                 Traceback (most recent call last)",
      "Cell \u001b[0;32mIn[45], line 3\u001b[0m\n\u001b[1;32m      1\u001b[0m \u001b[38;5;66;03m# Gives you top 10 stocks from Nifty 500 which have the highest probability of giving atleast 0.99% on your investment based on the Long/Buy position. Data is based on past 60 trading days\u001b[39;00m\n\u001b[1;32m      2\u001b[0m \u001b[38;5;66;03m# Test it for different time duration, index, % change and Long / Short criteria based on overall market trend\u001b[39;00m\n\u001b[0;32m----> 3\u001b[0m \u001b[43mIntra\u001b[49m\u001b[38;5;241m.\u001b[39mprob_by_percent_change(symbol \u001b[38;5;241m=\u001b[39m \u001b[38;5;28;01mNone\u001b[39;00m, index \u001b[38;5;241m=\u001b[39m \u001b[38;5;241m200\u001b[39m, time_period \u001b[38;5;241m=\u001b[39m \u001b[38;5;241m20\u001b[39m, change_percent\u001b[38;5;241m=\u001b[39m\u001b[38;5;241m0.099\u001b[39m, sort_by\u001b[38;5;241m=\u001b[39m\u001b[38;5;124m'\u001b[39m\u001b[38;5;124mLong Probability\u001b[39m\u001b[38;5;124m'\u001b[39m, top_k \u001b[38;5;241m=\u001b[39m \u001b[38;5;241m10\u001b[39m) \n",
      "\u001b[0;31mNameError\u001b[0m: name 'Intra' is not defined"
     ]
    }
   ],
   "source": [
    "# Gives you top 10 stocks from Nifty 500 which have the highest probability of giving atleast 0.99% on your investment based on the Long/Buy position. Data is based on past 60 trading days\n",
    "# Test it for different time duration, index, % change and Long / Short criteria based on overall market trend\n",
    "Intra.prob_by_percent_change(symbol = None, index = 200, time_period = 20, change_percent=0.099, sort_by='Long Probability', top_k = 10) "
   ]
  },
  {
   "cell_type": "markdown",
   "id": "74773862",
   "metadata": {},
   "source": [
    "## ATR \n",
    "If stock has crossed it's ATR on either side, it might reverse or if it hasn't, there is still a chance to move"
   ]
  },
  {
   "cell_type": "code",
   "execution_count": 46,
   "id": "dd1a387d",
   "metadata": {},
   "outputs": [
    {
     "ename": "NameError",
     "evalue": "name 'Intra' is not defined",
     "output_type": "error",
     "traceback": [
      "\u001b[0;31m---------------------------------------------------------------------------\u001b[0m",
      "\u001b[0;31mNameError\u001b[0m                                 Traceback (most recent call last)",
      "Cell \u001b[0;32mIn[46], line 1\u001b[0m\n\u001b[0;32m----> 1\u001b[0m df \u001b[38;5;241m=\u001b[39m \u001b[43mIntra\u001b[49m\u001b[38;5;241m.\u001b[39mATR_strategy(index \u001b[38;5;241m=\u001b[39m \u001b[38;5;124m'\u001b[39m\u001b[38;5;124mNIFTY 200\u001b[39m\u001b[38;5;124m'\u001b[39m, possible_reversal\u001b[38;5;241m=\u001b[39m\u001b[38;5;28;01mFalse\u001b[39;00m) \u001b[38;5;66;03m# if possible_reversal is true, it'll just reverse the order of remaining move %\u001b[39;00m\n\u001b[1;32m      2\u001b[0m df\u001b[38;5;241m.\u001b[39mhead(\u001b[38;5;241m20\u001b[39m)\n",
      "\u001b[0;31mNameError\u001b[0m: name 'Intra' is not defined"
     ]
    }
   ],
   "source": [
    "df = Intra.ATR_strategy(index = 'NIFTY 200', possible_reversal=False) # if possible_reversal is true, it'll just reverse the order of remaining move %\n",
    "df.head(20)"
   ]
  },
  {
   "cell_type": "markdown",
   "id": "ad616ab4",
   "metadata": {},
   "source": [
    "# [Live Market]()"
   ]
  },
  {
   "cell_type": "markdown",
   "id": "7b5eabab",
   "metadata": {},
   "source": [
    "## Minutes LIVE Data 🤯🤯🤯🤯🤑🤑🤑🤑🥳️🥳️🥳️\n",
    "Yup! Package now supports `[2,3,4,5,10,15,30,60]` minutes Live Data Too! Finally!!\n",
    "\n",
    "In order to access the data, there is a unique code associated with every name and is known only to them. You need to write the code for the stock you want to access. This is one time process per stock. You can find that code as follows:\n",
    "\n",
    "1. Login to `Kite` from your PC and open the chart of `5` minutes for any stock you want to analyse.\n",
    "2. Click `Ctrl + Shift + I` in Chrome. A new small panel will get opened on the right hand side of screen.\n",
    "3. Find **NETWORK** in the upper region of that panel. It'll be in the upper region only next to `Elements | Console | Sources | Network`. Click on **NETWORK**\n",
    "4. Click `CTRL+R` to reload. You'll find something that starts with `5minute?user_id=` under `Name`. [You'll be looking at something like this. Highlighted `holdings` is equal to your `5minute?user_id=`](https://marketsetup.in/posts/zerodha-login/portfolio.png). Click on it and see `Headers` just like in the picture.\n",
    "5. You'll see a Something like `Request URL: https://kite.zerodha.com/oms/instruments/historical/2513665/5minute?user_id=AB1234&oi=1&from=2022-01-09&to=2022-01-14`\n",
    "6. The number after `/historical/2513665` is the one you are looking for. So in this case, it is `HAVELLS` code. Save it for future purpose.\n",
    "\n",
    "### Please help me help you. I am trying to help more and more people. Not everyone can get this code easily and I can not get all the 1600 codes for everyone. If you are looking for a stock and find it's code, just send me a `feature request` or `raise an issue` and paste  the code along with scrip name there so that more and more people can be helped."
   ]
  },
  {
   "cell_type": "code",
   "execution_count": 47,
   "id": "4afc7677",
   "metadata": {},
   "outputs": [
    {
     "ename": "NameError",
     "evalue": "name 'KiteZerodha' is not defined",
     "output_type": "error",
     "traceback": [
      "\u001b[0;31m---------------------------------------------------------------------------\u001b[0m",
      "\u001b[0;31mNameError\u001b[0m                                 Traceback (most recent call last)",
      "Cell \u001b[0;32mIn[47], line 1\u001b[0m\n\u001b[0;32m----> 1\u001b[0m Kite \u001b[38;5;241m=\u001b[39m \u001b[43mKiteZerodha\u001b[49m(user_id \u001b[38;5;241m=\u001b[39m \u001b[38;5;124m'\u001b[39m\u001b[38;5;124mAB1234\u001b[39m\u001b[38;5;124m'\u001b[39m,password \u001b[38;5;241m=\u001b[39m \u001b[38;5;124m\"\u001b[39m\u001b[38;5;124mpassword@123\u001b[39m\u001b[38;5;124m\"\u001b[39m,two_factor_pin \u001b[38;5;241m=\u001b[39m \u001b[38;5;241m123456\u001b[39m) \u001b[38;5;66;03m# You'll be logged out from your PC as much as I know\u001b[39;00m\n\u001b[1;32m      2\u001b[0m df \u001b[38;5;241m=\u001b[39m  Kite\u001b[38;5;241m.\u001b[39mget_historical_minutes_data(name \u001b[38;5;241m=\u001b[39m \u001b[38;5;124m'\u001b[39m\u001b[38;5;124mHAVELLS\u001b[39m\u001b[38;5;124m'\u001b[39m, code \u001b[38;5;241m=\u001b[39m \u001b[38;5;28;01mNone\u001b[39;00m, interval \u001b[38;5;241m=\u001b[39m \u001b[38;5;241m15\u001b[39m, starting_from_date \u001b[38;5;241m=\u001b[39m \u001b[38;5;28;01mNone\u001b[39;00m, no_days_back \u001b[38;5;241m=\u001b[39m \u001b[38;5;241m50\u001b[39m, get_latest_only \u001b[38;5;241m=\u001b[39m \u001b[38;5;28;01mFalse\u001b[39;00m) \u001b[38;5;66;03m# can also directly use code = 2513665\u001b[39;00m\n\u001b[1;32m      3\u001b[0m \u001b[38;5;66;03m# Get 15 minutes data of HINDPETRO starting from Today (including current candles) to the previous 50 days. If get_latest_only = True, it would give you 1 days day i.e Today\u001b[39;00m\n",
      "\u001b[0;31mNameError\u001b[0m: name 'KiteZerodha' is not defined"
     ]
    }
   ],
   "source": [
    "Kite = KiteZerodha(user_id = 'AB1234',password = \"password@123\",two_factor_pin = 123456) # You'll be logged out from your PC as much as I know\n",
    "df =  Kite.get_historical_minutes_data(name = 'HAVELLS', code = None, interval = 15, starting_from_date = None, no_days_back = 50, get_latest_only = False) # can also directly use code = 2513665\n",
    "# Get 15 minutes data of HINDPETRO starting from Today (including current candles) to the previous 50 days. If get_latest_only = True, it would give you 1 days day i.e Today\n",
    "df"
   ]
  },
  {
   "cell_type": "markdown",
   "id": "29426149",
   "metadata": {},
   "source": [
    "## Market Sentiment: TICK, TRIN (Arm's Index) & 52W High-Low touching shares"
   ]
  },
  {
   "cell_type": "code",
   "execution_count": 48,
   "id": "788d8b74",
   "metadata": {},
   "outputs": [
    {
     "ename": "NameError",
     "evalue": "name 'MS' is not defined",
     "output_type": "error",
     "traceback": [
      "\u001b[0;31m---------------------------------------------------------------------------\u001b[0m",
      "\u001b[0;31mNameError\u001b[0m                                 Traceback (most recent call last)",
      "Cell \u001b[0;32mIn[48], line 1\u001b[0m\n\u001b[0;32m----> 1\u001b[0m \u001b[43mMS\u001b[49m\u001b[38;5;241m.\u001b[39mget_live_sentiment()\n",
      "\u001b[0;31mNameError\u001b[0m: name 'MS' is not defined"
     ]
    }
   ],
   "source": [
    "MS.get_live_sentiment()"
   ]
  },
  {
   "cell_type": "markdown",
   "id": "33ac5eb3",
   "metadata": {},
   "source": [
    "## [Volatility Index: VIX](https://www.motilaloswal.com/blog-details/6-things-that-the-Volatility-Index-(VIX)-indicates-to-you../1929)"
   ]
  },
  {
   "cell_type": "code",
   "execution_count": 49,
   "id": "d06d1f40",
   "metadata": {},
   "outputs": [
    {
     "ename": "NameError",
     "evalue": "name 'NSE' is not defined",
     "output_type": "error",
     "traceback": [
      "\u001b[0;31m---------------------------------------------------------------------------\u001b[0m",
      "\u001b[0;31mNameError\u001b[0m                                 Traceback (most recent call last)",
      "Cell \u001b[0;32mIn[49], line 1\u001b[0m\n\u001b[0;32m----> 1\u001b[0m \u001b[43mNSE\u001b[49m\u001b[38;5;241m.\u001b[39mget_VIX()\n",
      "\u001b[0;31mNameError\u001b[0m: name 'NSE' is not defined"
     ]
    }
   ],
   "source": [
    "NSE.get_VIX()"
   ]
  },
  {
   "cell_type": "markdown",
   "id": "f8f41133",
   "metadata": {},
   "source": [
    "## MMI: [Market Mood Index](https://www.tickertape.in/market-mood-index)\n",
    "\n",
    "Please click on the link above to get the values. All credits to [Ticker Tape Website](https://www.tickertape.in/)"
   ]
  },
  {
   "cell_type": "code",
   "execution_count": 50,
   "id": "b9aa6a4e",
   "metadata": {},
   "outputs": [
    {
     "ename": "NameError",
     "evalue": "name 'get_mmi' is not defined",
     "output_type": "error",
     "traceback": [
      "\u001b[0;31m---------------------------------------------------------------------------\u001b[0m",
      "\u001b[0;31mNameError\u001b[0m                                 Traceback (most recent call last)",
      "Cell \u001b[0;32mIn[50], line 1\u001b[0m\n\u001b[0;32m----> 1\u001b[0m \u001b[43mget_mmi\u001b[49m(raw \u001b[38;5;241m=\u001b[39m \u001b[38;5;28;01mTrue\u001b[39;00m) \u001b[38;5;66;03m# True means a simple Json shows current, last week, last month MMI\u001b[39;00m\n",
      "\u001b[0;31mNameError\u001b[0m: name 'get_mmi' is not defined"
     ]
    }
   ],
   "source": [
    "get_mmi(raw = True) # True means a simple Json shows current, last week, last month MMI"
   ]
  },
  {
   "cell_type": "markdown",
   "id": "d6f70e0d",
   "metadata": {},
   "source": [
    "## Current Index Performance\n",
    "Includes Nifty, Thematic and Sectoral indices and show `Top-N` sorted by change %"
   ]
  },
  {
   "cell_type": "code",
   "execution_count": 19,
   "id": "7724448c",
   "metadata": {},
   "outputs": [
    {
     "ename": "NameError",
     "evalue": "name 'NSE' is not defined",
     "output_type": "error",
     "traceback": [
      "\u001b[0;31m---------------------------------------------------------------------------\u001b[0m",
      "\u001b[0;31mNameError\u001b[0m                                 Traceback (most recent call last)",
      "Cell \u001b[0;32mIn[19], line 1\u001b[0m\n\u001b[0;32m----> 1\u001b[0m \u001b[43mNSE\u001b[49m\u001b[38;5;241m.\u001b[39mcurrent_indices_status(\u001b[38;5;241m10\u001b[39m) \u001b[38;5;66;03m# Live as of market is open. works post market also\u001b[39;00m\n",
      "\u001b[0;31mNameError\u001b[0m: name 'NSE' is not defined"
     ]
    }
   ],
   "source": [
    "NSE.current_indices_status(10) # Live as of market is open. works post market also"
   ]
  },
  {
   "cell_type": "code",
   "execution_count": 20,
   "id": "d71508aa",
   "metadata": {},
   "outputs": [
    {
     "ename": "NameError",
     "evalue": "name 'NSE' is not defined",
     "output_type": "error",
     "traceback": [
      "\u001b[0;31m---------------------------------------------------------------------------\u001b[0m",
      "\u001b[0;31mNameError\u001b[0m                                 Traceback (most recent call last)",
      "Cell \u001b[0;32mIn[20], line 1\u001b[0m\n\u001b[0;32m----> 1\u001b[0m \u001b[43mNSE\u001b[49m\u001b[38;5;241m.\u001b[39mopen_nse_index(\u001b[38;5;124m'\u001b[39m\u001b[38;5;124mNIFTY ENERGY\u001b[39m\u001b[38;5;124m'\u001b[39m,) \u001b[38;5;66;03m# Returns performance of stocks in a given index\u001b[39;00m\n",
      "\u001b[0;31mNameError\u001b[0m: name 'NSE' is not defined"
     ]
    }
   ],
   "source": [
    "NSE.open_nse_index('NIFTY ENERGY',) # Returns performance of stocks in a given index"
   ]
  },
  {
   "cell_type": "code",
   "execution_count": 21,
   "id": "f194c1e5",
   "metadata": {},
   "outputs": [
    {
     "ename": "AttributeError",
     "evalue": "'list' object has no attribute 'stock_current_index_performance'",
     "output_type": "error",
     "traceback": [
      "\u001b[0;31m---------------------------------------------------------------------------\u001b[0m",
      "\u001b[0;31mAttributeError\u001b[0m                            Traceback (most recent call last)",
      "Cell \u001b[0;32mIn[21], line 1\u001b[0m\n\u001b[0;32m----> 1\u001b[0m \u001b[43mIn\u001b[49m\u001b[38;5;241;43m.\u001b[39;49m\u001b[43mstock_current_index_performance\u001b[49m(\u001b[38;5;124m'\u001b[39m\u001b[38;5;124mHAVELLS\u001b[39m\u001b[38;5;124m'\u001b[39m) \u001b[38;5;66;03m# All the eligible indices (and their current performance) where this stock belongs to. Some stocks might not belong aywhere\u001b[39;00m\n",
      "\u001b[0;31mAttributeError\u001b[0m: 'list' object has no attribute 'stock_current_index_performance'"
     ]
    }
   ],
   "source": [
    "In.stock_current_index_performance('HAVELLS') # All the eligible indices (and their current performance) where this stock belongs to. Some stocks might not belong aywhere"
   ]
  },
  {
   "cell_type": "markdown",
   "id": "c782769b",
   "metadata": {},
   "source": [
    "## Stocks trading at their 52W Low / High"
   ]
  },
  {
   "cell_type": "code",
   "execution_count": 22,
   "id": "6dcbfe3f",
   "metadata": {},
   "outputs": [
    {
     "ename": "NameError",
     "evalue": "name 'NSE' is not defined",
     "output_type": "error",
     "traceback": [
      "\u001b[0;31m---------------------------------------------------------------------------\u001b[0m",
      "\u001b[0;31mNameError\u001b[0m                                 Traceback (most recent call last)",
      "Cell \u001b[0;32mIn[22], line 1\u001b[0m\n\u001b[0;32m----> 1\u001b[0m \u001b[43mNSE\u001b[49m\u001b[38;5;241m.\u001b[39mstocks_at_52W(direction \u001b[38;5;241m=\u001b[39m \u001b[38;5;124m'\u001b[39m\u001b[38;5;124mlow\u001b[39m\u001b[38;5;124m'\u001b[39m) \u001b[38;5;66;03m# set direction = 'high' for stocks going up\u001b[39;00m\n",
      "\u001b[0;31mNameError\u001b[0m: name 'NSE' is not defined"
     ]
    }
   ],
   "source": [
    "NSE.stocks_at_52W(direction = 'low') # set direction = 'high' for stocks going up"
   ]
  },
  {
   "cell_type": "markdown",
   "id": "04a660ec",
   "metadata": {},
   "source": [
    "# Futures and Options"
   ]
  },
  {
   "cell_type": "markdown",
   "id": "a23be0ce",
   "metadata": {},
   "source": [
    "## [Analyse Option Chain](https://www.quora.com/How-do-I-read-analyse-the-option-chain-of-a-stock-to-intraday-trade-with-clarity-NSE). Very helpful"
   ]
  },
  {
   "cell_type": "code",
   "execution_count": 23,
   "id": "159e84ae",
   "metadata": {},
   "outputs": [
    {
     "ename": "NameError",
     "evalue": "name 'analyse_option_chain' is not defined",
     "output_type": "error",
     "traceback": [
      "\u001b[0;31m---------------------------------------------------------------------------\u001b[0m",
      "\u001b[0;31mNameError\u001b[0m                                 Traceback (most recent call last)",
      "Cell \u001b[0;32mIn[23], line 1\u001b[0m\n\u001b[0;32m----> 1\u001b[0m filtered_df \u001b[38;5;241m=\u001b[39m \u001b[43manalyse_option_chain\u001b[49m(\u001b[38;5;124m'\u001b[39m\u001b[38;5;124mTATACHEM\u001b[39m\u001b[38;5;124m'\u001b[39m, plot \u001b[38;5;241m=\u001b[39m \u001b[38;5;28;01mTrue\u001b[39;00m, fig_size\u001b[38;5;241m=\u001b[39m(\u001b[38;5;241m21\u001b[39m,\u001b[38;5;241m6.7\u001b[39m)) \u001b[38;5;66;03m# Read the Doc String. Manually compare other parameters such as openInterest\u001b[39;00m\n",
      "\u001b[0;31mNameError\u001b[0m: name 'analyse_option_chain' is not defined"
     ]
    }
   ],
   "source": [
    "filtered_df = analyse_option_chain('TATACHEM', plot = True, fig_size=(21,6.7)) # Read the Doc String. Manually compare other parameters such as openInterest"
   ]
  },
  {
   "cell_type": "markdown",
   "id": "f731a459",
   "metadata": {},
   "source": [
    "# [Back Testing](https://www.investopedia.com/terms/b/backtesting.asp)\n",
    "## Back Testing Stratagies to get the best Win %, Max Return Investment etc\n",
    "Pass in the parameters dict for all. Check Docstring of each individual function for how a strategy works in buying or selling."
   ]
  },
  {
   "cell_type": "markdown",
   "id": "81e6fd1d",
   "metadata": {},
   "source": [
    "## CCI\n",
    "`BT.backtest('cci', stocks=['DIVISLAB'])` , for individual stock data performance to tell how much a stock would have gained or lost"
   ]
  },
  {
   "cell_type": "code",
   "execution_count": 24,
   "id": "15867546",
   "metadata": {},
   "outputs": [
    {
     "ename": "NameError",
     "evalue": "name 'BT' is not defined",
     "output_type": "error",
     "traceback": [
      "\u001b[0;31m---------------------------------------------------------------------------\u001b[0m",
      "\u001b[0;31mNameError\u001b[0m                                 Traceback (most recent call last)",
      "Cell \u001b[0;32mIn[24], line 4\u001b[0m\n\u001b[1;32m      1\u001b[0m cci_parameters \u001b[38;5;241m=\u001b[39m {\u001b[38;5;124m'\u001b[39m\u001b[38;5;124mbuying_thresh\u001b[39m\u001b[38;5;124m'\u001b[39m:\u001b[38;5;241m-\u001b[39m\u001b[38;5;241m100\u001b[39m, \u001b[38;5;124m'\u001b[39m\u001b[38;5;124mselling_thresh\u001b[39m\u001b[38;5;124m'\u001b[39m:\u001b[38;5;241m100\u001b[39m, \u001b[38;5;124m'\u001b[39m\u001b[38;5;124mwindow\u001b[39m\u001b[38;5;124m'\u001b[39m:\u001b[38;5;241m20\u001b[39m, \u001b[38;5;124m'\u001b[39m\u001b[38;5;124mcols\u001b[39m\u001b[38;5;124m'\u001b[39m:(\u001b[38;5;124m'\u001b[39m\u001b[38;5;124mOPEN\u001b[39m\u001b[38;5;124m'\u001b[39m,\u001b[38;5;124m'\u001b[39m\u001b[38;5;124mCLOSE\u001b[39m\u001b[38;5;124m'\u001b[39m,\u001b[38;5;124m'\u001b[39m\u001b[38;5;124mLOW\u001b[39m\u001b[38;5;124m'\u001b[39m,\u001b[38;5;124m'\u001b[39m\u001b[38;5;124mHIGH\u001b[39m\u001b[38;5;124m'\u001b[39m, \u001b[38;5;124m'\u001b[39m\u001b[38;5;124mDATE\u001b[39m\u001b[38;5;124m'\u001b[39m)} \u001b[38;5;66;03m# check documentation of BT.cci()\u001b[39;00m\n\u001b[1;32m      3\u001b[0m \u001b[38;5;66;03m# Using the CCI strategy, Return top gaining stocks which have traded atleast 365 recent days and are currently in nifty-500\u001b[39;00m\n\u001b[0;32m----> 4\u001b[0m \u001b[43mBT\u001b[49m\u001b[38;5;241m.\u001b[39mbacktest(\u001b[38;5;124m'\u001b[39m\u001b[38;5;124mcci\u001b[39m\u001b[38;5;124m'\u001b[39m, min_days \u001b[38;5;241m=\u001b[39m \u001b[38;5;241m365\u001b[39m, top_n\u001b[38;5;241m=\u001b[39m\u001b[38;5;241m10\u001b[39m, stocks \u001b[38;5;241m=\u001b[39m \u001b[38;5;124m'\u001b[39m\u001b[38;5;124mnifty_500\u001b[39m\u001b[38;5;124m'\u001b[39m, \u001b[38;5;241m*\u001b[39m\u001b[38;5;241m*\u001b[39mcci_parameters)\n",
      "\u001b[0;31mNameError\u001b[0m: name 'BT' is not defined"
     ]
    }
   ],
   "source": [
    "cci_parameters = {'buying_thresh':-100, 'selling_thresh':100, 'window':20, 'cols':('OPEN','CLOSE','LOW','HIGH', 'DATE')} # check documentation of BT.cci()\n",
    "\n",
    "# Using the CCI strategy, Return top gaining stocks which have traded atleast 365 recent days and are currently in nifty-500\n",
    "BT.backtest('cci', min_days = 365, top_n=10, stocks = 'nifty_500', **cci_parameters)"
   ]
  },
  {
   "cell_type": "markdown",
   "id": "8012cb9a",
   "metadata": {},
   "source": [
    "## MA\n",
    "Moving Average Strategy"
   ]
  },
  {
   "cell_type": "code",
   "execution_count": 25,
   "id": "535c01aa",
   "metadata": {},
   "outputs": [
    {
     "ename": "NameError",
     "evalue": "name 'BT' is not defined",
     "output_type": "error",
     "traceback": [
      "\u001b[0;31m---------------------------------------------------------------------------\u001b[0m",
      "\u001b[0;31mNameError\u001b[0m                                 Traceback (most recent call last)",
      "Cell \u001b[0;32mIn[25], line 1\u001b[0m\n\u001b[0;32m----> 1\u001b[0m \u001b[43mBT\u001b[49m\u001b[38;5;241m.\u001b[39mbacktest(\u001b[38;5;124m'\u001b[39m\u001b[38;5;124mma\u001b[39m\u001b[38;5;124m'\u001b[39m,stocks\u001b[38;5;241m=\u001b[39m\u001b[38;5;124m'\u001b[39m\u001b[38;5;124mnifty_50\u001b[39m\u001b[38;5;124m'\u001b[39m,top_n\u001b[38;5;241m=\u001b[39m\u001b[38;5;241m5\u001b[39m)\n",
      "\u001b[0;31mNameError\u001b[0m: name 'BT' is not defined"
     ]
    }
   ],
   "source": [
    "BT.backtest('ma',stocks='nifty_50',top_n=5)"
   ]
  },
  {
   "cell_type": "markdown",
   "id": "8de259c1",
   "metadata": {},
   "source": [
    "## RSI"
   ]
  },
  {
   "cell_type": "code",
   "execution_count": 26,
   "id": "effc86b9",
   "metadata": {},
   "outputs": [
    {
     "ename": "NameError",
     "evalue": "name 'BT' is not defined",
     "output_type": "error",
     "traceback": [
      "\u001b[0;31m---------------------------------------------------------------------------\u001b[0m",
      "\u001b[0;31mNameError\u001b[0m                                 Traceback (most recent call last)",
      "Cell \u001b[0;32mIn[26], line 1\u001b[0m\n\u001b[0;32m----> 1\u001b[0m \u001b[43mBT\u001b[49m\u001b[38;5;241m.\u001b[39mbacktest(\u001b[38;5;124m'\u001b[39m\u001b[38;5;124mrsi\u001b[39m\u001b[38;5;124m'\u001b[39m,stocks\u001b[38;5;241m=\u001b[39m\u001b[38;5;124m'\u001b[39m\u001b[38;5;124mnifty_500\u001b[39m\u001b[38;5;124m'\u001b[39m, top_n \u001b[38;5;241m=\u001b[39m \u001b[38;5;241m5\u001b[39m) \n",
      "\u001b[0;31mNameError\u001b[0m: name 'BT' is not defined"
     ]
    }
   ],
   "source": [
    "BT.backtest('rsi',stocks='nifty_500', top_n = 5) "
   ]
  },
  {
   "cell_type": "markdown",
   "id": "a352d2c3",
   "metadata": {},
   "source": [
    "## MACD"
   ]
  },
  {
   "cell_type": "code",
   "execution_count": 27,
   "id": "9897c91f",
   "metadata": {},
   "outputs": [
    {
     "ename": "NameError",
     "evalue": "name 'BT' is not defined",
     "output_type": "error",
     "traceback": [
      "\u001b[0;31m---------------------------------------------------------------------------\u001b[0m",
      "\u001b[0;31mNameError\u001b[0m                                 Traceback (most recent call last)",
      "Cell \u001b[0;32mIn[27], line 1\u001b[0m\n\u001b[0;32m----> 1\u001b[0m \u001b[43mBT\u001b[49m\u001b[38;5;241m.\u001b[39mbacktest(\u001b[38;5;124m'\u001b[39m\u001b[38;5;124mmacd\u001b[39m\u001b[38;5;124m'\u001b[39m, top_n\u001b[38;5;241m=\u001b[39m\u001b[38;5;241m5\u001b[39m, stocks\u001b[38;5;241m=\u001b[39m[\u001b[38;5;124m'\u001b[39m\u001b[38;5;124mBAJFINANCE\u001b[39m\u001b[38;5;124m'\u001b[39m,\u001b[38;5;124m'\u001b[39m\u001b[38;5;124mSHREECEM\u001b[39m\u001b[38;5;124m'\u001b[39m,\u001b[38;5;124m\"\u001b[39m\u001b[38;5;124mCOALINDIA\u001b[39m\u001b[38;5;124m\"\u001b[39m]) \u001b[38;5;66;03m# Individual stocks. If no sells have been made, it'll be empty\u001b[39;00m\n",
      "\u001b[0;31mNameError\u001b[0m: name 'BT' is not defined"
     ]
    }
   ],
   "source": [
    "BT.backtest('macd', top_n=5, stocks=['BAJFINANCE','SHREECEM',\"COALINDIA\"]) # Individual stocks. If no sells have been made, it'll be empty"
   ]
  },
  {
   "cell_type": "markdown",
   "id": "ef633b46",
   "metadata": {},
   "source": [
    "## Stochastic Oscillator\n",
    "Faster signal than MACD. Pass in the paramerters to change results and modify to your ease"
   ]
  },
  {
   "cell_type": "code",
   "execution_count": 28,
   "id": "7b6fa4cc",
   "metadata": {},
   "outputs": [
    {
     "ename": "NameError",
     "evalue": "name 'BT' is not defined",
     "output_type": "error",
     "traceback": [
      "\u001b[0;31m---------------------------------------------------------------------------\u001b[0m",
      "\u001b[0;31mNameError\u001b[0m                                 Traceback (most recent call last)",
      "Cell \u001b[0;32mIn[28], line 1\u001b[0m\n\u001b[0;32m----> 1\u001b[0m \u001b[43mBT\u001b[49m\u001b[38;5;241m.\u001b[39mbacktest(\u001b[38;5;124m'\u001b[39m\u001b[38;5;124mstochastic_osc\u001b[39m\u001b[38;5;124m'\u001b[39m,stocks\u001b[38;5;241m=\u001b[39m\u001b[38;5;124m'\u001b[39m\u001b[38;5;124mnifty_50\u001b[39m\u001b[38;5;124m'\u001b[39m, top_n \u001b[38;5;241m=\u001b[39m \u001b[38;5;241m15\u001b[39m) \n",
      "\u001b[0;31mNameError\u001b[0m: name 'BT' is not defined"
     ]
    }
   ],
   "source": [
    "BT.backtest('stochastic_osc',stocks='nifty_50', top_n = 15) "
   ]
  },
  {
   "cell_type": "markdown",
   "id": "86f357f0",
   "metadata": {},
   "source": [
    "# [Risk Management](https://www.youtube.com/watch?v=v3lfIdpKSiU)\n",
    "\n",
    "You have a total budget of 40K, and a risk apetite of rs 400 per trade, You can set manual such as `entry = 3980.1` and `stop_loss=3780.5`. If intraday, set `leverage` parameter to `>1` "
   ]
  },
  {
   "cell_type": "code",
   "execution_count": 29,
   "id": "be70b877",
   "metadata": {},
   "outputs": [
    {
     "ename": "AttributeError",
     "evalue": "'list' object has no attribute 'get_particulars'",
     "output_type": "error",
     "traceback": [
      "\u001b[0;31m---------------------------------------------------------------------------\u001b[0m",
      "\u001b[0;31mAttributeError\u001b[0m                            Traceback (most recent call last)",
      "Cell \u001b[0;32mIn[29], line 1\u001b[0m\n\u001b[0;32m----> 1\u001b[0m \u001b[43mIn\u001b[49m\u001b[38;5;241;43m.\u001b[39;49m\u001b[43mget_particulars\u001b[49m(\u001b[38;5;124m'\u001b[39m\u001b[38;5;124mNIITLTD\u001b[39m\u001b[38;5;124m'\u001b[39m,budget \u001b[38;5;241m=\u001b[39m \u001b[38;5;241m40000\u001b[39m, risk \u001b[38;5;241m=\u001b[39m \u001b[38;5;241m400\u001b[39m,)  \u001b[38;5;66;03m#manually set parameters for entry, exit etc\u001b[39;00m\n",
      "\u001b[0;31mAttributeError\u001b[0m: 'list' object has no attribute 'get_particulars'"
     ]
    }
   ],
   "source": [
    "In.get_particulars('NIITLTD',budget = 40000, risk = 400,)  #manually set parameters for entry, exit etc"
   ]
  },
  {
   "cell_type": "markdown",
   "id": "021391e4",
   "metadata": {},
   "source": [
    "# Connect to Online Brokers\n",
    "First step towards Algo trading"
   ]
  },
  {
   "cell_type": "markdown",
   "id": "72c96b27",
   "metadata": {},
   "source": [
    "## Zerodha / Kite"
   ]
  },
  {
   "cell_type": "code",
   "execution_count": 30,
   "id": "3d4bdf5b",
   "metadata": {},
   "outputs": [
    {
     "ename": "NameError",
     "evalue": "name 'KiteZerodha' is not defined",
     "output_type": "error",
     "traceback": [
      "\u001b[0;31m---------------------------------------------------------------------------\u001b[0m",
      "\u001b[0;31mNameError\u001b[0m                                 Traceback (most recent call last)",
      "Cell \u001b[0;32mIn[30], line 1\u001b[0m\n\u001b[0;32m----> 1\u001b[0m Kite \u001b[38;5;241m=\u001b[39m \u001b[43mKiteZerodha\u001b[49m(user_id \u001b[38;5;241m=\u001b[39m \u001b[38;5;124m'\u001b[39m\u001b[38;5;124mAB1234\u001b[39m\u001b[38;5;124m'\u001b[39m,password \u001b[38;5;241m=\u001b[39m \u001b[38;5;124m\"\u001b[39m\u001b[38;5;124mpassword@123\u001b[39m\u001b[38;5;124m\"\u001b[39m,two_factor_pin \u001b[38;5;241m=\u001b[39m \u001b[38;5;241m123456\u001b[39m)\n\u001b[1;32m      2\u001b[0m Kite\u001b[38;5;241m.\u001b[39mcheck_basic_info(\u001b[38;5;124m'\u001b[39m\u001b[38;5;124mholdings\u001b[39m\u001b[38;5;124m'\u001b[39m) \u001b[38;5;66;03m# can check user info, positions, margins etc \u001b[39;00m\n",
      "\u001b[0;31mNameError\u001b[0m: name 'KiteZerodha' is not defined"
     ]
    }
   ],
   "source": [
    "Kite = KiteZerodha(user_id = 'AB1234',password = \"password@123\",two_factor_pin = 123456)\n",
    "Kite.check_basic_info('holdings') # can check user info, positions, margins etc "
   ]
  },
  {
   "cell_type": "code",
   "execution_count": null,
   "id": "b0cc34b9",
   "metadata": {},
   "outputs": [],
   "source": []
  },
  {
   "cell_type": "code",
   "execution_count": null,
   "id": "814d312b",
   "metadata": {},
   "outputs": [],
   "source": []
  },
  {
   "cell_type": "code",
   "execution_count": null,
   "id": "4ce685a1",
   "metadata": {},
   "outputs": [],
   "source": []
  },
  {
   "cell_type": "code",
   "execution_count": null,
   "id": "3c4ade3c",
   "metadata": {},
   "outputs": [],
   "source": []
  },
  {
   "cell_type": "code",
   "execution_count": null,
   "id": "ce5821e7",
   "metadata": {},
   "outputs": [],
   "source": []
  },
  {
   "cell_type": "code",
   "execution_count": null,
   "id": "083428b9",
   "metadata": {},
   "outputs": [],
   "source": []
  },
  {
   "cell_type": "code",
   "execution_count": null,
   "id": "7ca27fc5",
   "metadata": {},
   "outputs": [],
   "source": []
  },
  {
   "cell_type": "code",
   "execution_count": null,
   "id": "ab1c2a62",
   "metadata": {},
   "outputs": [],
   "source": []
  },
  {
   "cell_type": "code",
   "execution_count": null,
   "id": "5e7b28e2",
   "metadata": {},
   "outputs": [],
   "source": []
  },
  {
   "cell_type": "code",
   "execution_count": null,
   "id": "167e89af",
   "metadata": {},
   "outputs": [],
   "source": []
  },
  {
   "cell_type": "code",
   "execution_count": null,
   "id": "6bcbf527",
   "metadata": {},
   "outputs": [],
   "source": []
  },
  {
   "cell_type": "code",
   "execution_count": null,
   "id": "611fc038",
   "metadata": {},
   "outputs": [],
   "source": []
  },
  {
   "cell_type": "code",
   "execution_count": null,
   "id": "14f3af9b",
   "metadata": {},
   "outputs": [],
   "source": []
  },
  {
   "cell_type": "code",
   "execution_count": null,
   "id": "1caa1e9c",
   "metadata": {},
   "outputs": [],
   "source": []
  },
  {
   "cell_type": "code",
   "execution_count": null,
   "id": "a7df2815",
   "metadata": {},
   "outputs": [],
   "source": []
  },
  {
   "cell_type": "code",
   "execution_count": null,
   "id": "f8fc07f4",
   "metadata": {},
   "outputs": [],
   "source": []
  },
  {
   "cell_type": "code",
   "execution_count": null,
   "id": "09f17195",
   "metadata": {},
   "outputs": [],
   "source": []
  },
  {
   "cell_type": "code",
   "execution_count": null,
   "id": "7e466d44",
   "metadata": {},
   "outputs": [],
   "source": []
  },
  {
   "cell_type": "code",
   "execution_count": null,
   "id": "0b883e57",
   "metadata": {},
   "outputs": [],
   "source": []
  },
  {
   "cell_type": "code",
   "execution_count": null,
   "id": "b6433370",
   "metadata": {},
   "outputs": [],
   "source": []
  },
  {
   "cell_type": "code",
   "execution_count": null,
   "id": "37471d7e",
   "metadata": {},
   "outputs": [],
   "source": []
  },
  {
   "cell_type": "code",
   "execution_count": null,
   "id": "4500f163",
   "metadata": {},
   "outputs": [],
   "source": []
  },
  {
   "cell_type": "code",
   "execution_count": null,
   "id": "cec590d1",
   "metadata": {},
   "outputs": [],
   "source": []
  },
  {
   "cell_type": "code",
   "execution_count": null,
   "id": "ccb1c081",
   "metadata": {},
   "outputs": [],
   "source": []
  },
  {
   "cell_type": "code",
   "execution_count": null,
   "id": "38f0ac69",
   "metadata": {},
   "outputs": [],
   "source": []
  },
  {
   "cell_type": "code",
   "execution_count": null,
   "id": "8d69047a",
   "metadata": {},
   "outputs": [],
   "source": []
  },
  {
   "cell_type": "code",
   "execution_count": null,
   "id": "db8ff2af",
   "metadata": {},
   "outputs": [],
   "source": []
  },
  {
   "cell_type": "code",
   "execution_count": null,
   "id": "bba0763c",
   "metadata": {},
   "outputs": [],
   "source": []
  },
  {
   "cell_type": "code",
   "execution_count": null,
   "id": "75c5ca83",
   "metadata": {},
   "outputs": [],
   "source": []
  },
  {
   "cell_type": "code",
   "execution_count": null,
   "id": "74102e0c",
   "metadata": {},
   "outputs": [],
   "source": []
  },
  {
   "cell_type": "code",
   "execution_count": null,
   "id": "b42cced2",
   "metadata": {},
   "outputs": [],
   "source": []
  },
  {
   "cell_type": "code",
   "execution_count": null,
   "id": "dcd520cb",
   "metadata": {},
   "outputs": [],
   "source": []
  },
  {
   "cell_type": "code",
   "execution_count": null,
   "id": "0624ee6d",
   "metadata": {},
   "outputs": [],
   "source": []
  },
  {
   "cell_type": "code",
   "execution_count": null,
   "id": "ad9b2eea",
   "metadata": {},
   "outputs": [],
   "source": []
  }
 ],
 "metadata": {
  "kernelspec": {
   "display_name": "Python 3 (ipykernel)",
   "language": "python",
   "name": "python3"
  },
  "language_info": {
   "codemirror_mode": {
    "name": "ipython",
    "version": 3
   },
   "file_extension": ".py",
   "mimetype": "text/x-python",
   "name": "python",
   "nbconvert_exporter": "python",
   "pygments_lexer": "ipython3",
   "version": "3.10.4"
  },
  "vscode": {
   "interpreter": {
    "hash": "3ad933181bd8a04b432d3370b9dc3b0662ad032c4dfaa4e4f1596c548f763858"
   }
  }
 },
 "nbformat": 4,
 "nbformat_minor": 5
}
